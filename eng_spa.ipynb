{
  "nbformat": 4,
  "nbformat_minor": 0,
  "metadata": {
    "colab": {
      "name": "eng_spa.ipynb",
      "provenance": [],
      "collapsed_sections": [],
      "mount_file_id": "1xpJ9sQPVnmfL2ykIYyDMPFGAGQ0kymes",
      "authorship_tag": "ABX9TyPFrFfb/r62//G3FppxfLlt"
    },
    "kernelspec": {
      "name": "python3",
      "display_name": "Python 3"
    }
  },
  "cells": [
    {
      "cell_type": "code",
      "metadata": {
        "id": "Icwnvyrc3MDs"
      },
      "source": [
        "#import necessary libraries\n",
        "import os\n",
        "import pandas as pd\n",
        "import numpy as np\n",
        "import tensorflow as tf\n",
        "import re\n",
        "import string\n",
        "from string import digits"
      ],
      "execution_count": 1,
      "outputs": []
    },
    {
      "cell_type": "code",
      "metadata": {
        "id": "ViSe-3rB30Bz"
      },
      "source": [
        "np.set_printoptions(threshold=np.inf)\n",
        "os.chdir('/content/drive/My Drive/DL_Colab/AutoEncoders/Machine Translation/English-Spanish')"
      ],
      "execution_count": 2,
      "outputs": []
    },
    {
      "cell_type": "markdown",
      "metadata": {
        "id": "T8-6YMZl4B8V"
      },
      "source": [
        "**Download the data**"
      ]
    },
    {
      "cell_type": "code",
      "metadata": {
        "id": "4g-6Mjxs3_u6"
      },
      "source": [
        "#!!curl -O http://www.manythings.org/anki/spa-eng.zip\n",
        "#!!unzip spa-eng.zip"
      ],
      "execution_count": null,
      "outputs": []
    },
    {
      "cell_type": "markdown",
      "metadata": {
        "id": "MIJojFs14ZIQ"
      },
      "source": [
        "**Load the data**"
      ]
    },
    {
      "cell_type": "code",
      "metadata": {
        "id": "WggQvKop4Nbg"
      },
      "source": [
        "#Data Path\n",
        "data_path = \"spa.txt\"\n",
        "\n",
        "#Number of samples to train\n",
        "num_samples = 20000\n",
        "\n",
        "lines = pd.read_table(data_path, names=['eng','spa',''])"
      ],
      "execution_count": 3,
      "outputs": []
    },
    {
      "cell_type": "markdown",
      "metadata": {
        "id": "_DLaRI_zCLkT"
      },
      "source": [
        "Here we'll be using a subset of data ie only 50000 sentences out of 124547 sentences. For each timestep in Encoder we'll add sequence as word."
      ]
    },
    {
      "cell_type": "code",
      "metadata": {
        "id": "K-bkkmos4t0B",
        "outputId": "b836a422-176d-48f0-c4d1-e4a472ac8e95",
        "colab": {
          "base_uri": "https://localhost:8080/",
          "height": 204
        }
      },
      "source": [
        "lines.head()"
      ],
      "execution_count": 4,
      "outputs": [
        {
          "output_type": "execute_result",
          "data": {
            "text/html": [
              "<div>\n",
              "<style scoped>\n",
              "    .dataframe tbody tr th:only-of-type {\n",
              "        vertical-align: middle;\n",
              "    }\n",
              "\n",
              "    .dataframe tbody tr th {\n",
              "        vertical-align: top;\n",
              "    }\n",
              "\n",
              "    .dataframe thead th {\n",
              "        text-align: right;\n",
              "    }\n",
              "</style>\n",
              "<table border=\"1\" class=\"dataframe\">\n",
              "  <thead>\n",
              "    <tr style=\"text-align: right;\">\n",
              "      <th></th>\n",
              "      <th>eng</th>\n",
              "      <th>spa</th>\n",
              "      <th></th>\n",
              "    </tr>\n",
              "  </thead>\n",
              "  <tbody>\n",
              "    <tr>\n",
              "      <th>0</th>\n",
              "      <td>Go.</td>\n",
              "      <td>Ve.</td>\n",
              "      <td>CC-BY 2.0 (France) Attribution: tatoeba.org #2...</td>\n",
              "    </tr>\n",
              "    <tr>\n",
              "      <th>1</th>\n",
              "      <td>Go.</td>\n",
              "      <td>Vete.</td>\n",
              "      <td>CC-BY 2.0 (France) Attribution: tatoeba.org #2...</td>\n",
              "    </tr>\n",
              "    <tr>\n",
              "      <th>2</th>\n",
              "      <td>Go.</td>\n",
              "      <td>Vaya.</td>\n",
              "      <td>CC-BY 2.0 (France) Attribution: tatoeba.org #2...</td>\n",
              "    </tr>\n",
              "    <tr>\n",
              "      <th>3</th>\n",
              "      <td>Go.</td>\n",
              "      <td>Váyase.</td>\n",
              "      <td>CC-BY 2.0 (France) Attribution: tatoeba.org #2...</td>\n",
              "    </tr>\n",
              "    <tr>\n",
              "      <th>4</th>\n",
              "      <td>Hi.</td>\n",
              "      <td>Hola.</td>\n",
              "      <td>CC-BY 2.0 (France) Attribution: tatoeba.org #5...</td>\n",
              "    </tr>\n",
              "  </tbody>\n",
              "</table>\n",
              "</div>"
            ],
            "text/plain": [
              "   eng      spa                                                   \n",
              "0  Go.      Ve.  CC-BY 2.0 (France) Attribution: tatoeba.org #2...\n",
              "1  Go.    Vete.  CC-BY 2.0 (France) Attribution: tatoeba.org #2...\n",
              "2  Go.    Vaya.  CC-BY 2.0 (France) Attribution: tatoeba.org #2...\n",
              "3  Go.  Váyase.  CC-BY 2.0 (France) Attribution: tatoeba.org #2...\n",
              "4  Hi.    Hola.  CC-BY 2.0 (France) Attribution: tatoeba.org #5..."
            ]
          },
          "metadata": {
            "tags": []
          },
          "execution_count": 4
        }
      ]
    },
    {
      "cell_type": "code",
      "metadata": {
        "id": "vh1jzci65use",
        "outputId": "4d8f25e9-5d89-4b9d-8d39-8a28af63850c",
        "colab": {
          "base_uri": "https://localhost:8080/"
        }
      },
      "source": [
        "lines.shape"
      ],
      "execution_count": 5,
      "outputs": [
        {
          "output_type": "execute_result",
          "data": {
            "text/plain": [
              "(124547, 3)"
            ]
          },
          "metadata": {
            "tags": []
          },
          "execution_count": 5
        }
      ]
    },
    {
      "cell_type": "markdown",
      "metadata": {
        "id": "FuuyDUQ4B7iC"
      },
      "source": [
        "**Text Preprocessing**"
      ]
    },
    {
      "cell_type": "code",
      "metadata": {
        "id": "9W56hSK2KxFe"
      },
      "source": [
        "def text_preprocess(text):\n",
        "\n",
        "  #Remove qoutes\n",
        "  new_text = re.sub(\"'\",'',text) #this will replace words like can't --> cant\n",
        "\n",
        "  #Lower the cases\n",
        "  new_text = new_text.lower()\n",
        "  \n",
        "  #Remove special characters\n",
        "  nopunc = set(string.punctuation)\n",
        "  new_text = [char for char in new_text if char not in nopunc]\n",
        "  new_text = ''.join(new_text)\n",
        "\n",
        "  #Remove numbers from the text\n",
        "  removed_numbers = str.maketrans('','',digits)\n",
        "  new_text = new_text.translate(removed_numbers)\n",
        "\n",
        "  #Remove extra space\n",
        "  new_text = new_text.strip()\n",
        "  new_text = re.sub(' +',' ',new_text)\n",
        "\n",
        "  return new_text\n",
        "\n"
      ],
      "execution_count": 6,
      "outputs": []
    },
    {
      "cell_type": "code",
      "metadata": {
        "id": "Ud7BEAc_MZZ0"
      },
      "source": [
        "lines['eng'] = lines['eng'].apply(text_preprocess)\n",
        "lines['spa'] = lines['spa'].apply(text_preprocess)"
      ],
      "execution_count": 7,
      "outputs": []
    },
    {
      "cell_type": "code",
      "metadata": {
        "id": "kkgYw929MiAp"
      },
      "source": [
        "#To indicate start of seq in target we'll use \"START_ \" and for end of the seq we'll use \" _END\"\n",
        "lines['spa'] = lines['spa'].apply(lambda x: 'START_ '+ x +' _END')"
      ],
      "execution_count": 8,
      "outputs": []
    },
    {
      "cell_type": "code",
      "metadata": {
        "id": "O-V0eEgTM0-M",
        "outputId": "932d5bc8-47d9-45eb-8165-092aa94d89ce",
        "colab": {
          "base_uri": "https://localhost:8080/"
        }
      },
      "source": [
        "lines['spa'].sample(10)"
      ],
      "execution_count": 9,
      "outputs": [
        {
          "output_type": "execute_result",
          "data": {
            "text/plain": [
              "86178                     START_ casarse es cosa seria _END\n",
              "110180    START_ compro cosas que sé que no voy a utiliz...\n",
              "850                                 START_ ella camina _END\n",
              "59409                         START_ ¡eh tú ¿qué haces _END\n",
              "82845          START_ no lo dejes escuchar esta música _END\n",
              "74880         START_ ¿cuándo empezaste a jugar al golf _END\n",
              "34072                   START_ soy profesor de japonés _END\n",
              "9296                              START_ es canadiense _END\n",
              "99502     START_ ¿qué tan seguro estás de que él es un c...\n",
              "43245                 START_ koko es una gorila hembra _END\n",
              "Name: spa, dtype: object"
            ]
          },
          "metadata": {
            "tags": []
          },
          "execution_count": 9
        }
      ]
    },
    {
      "cell_type": "markdown",
      "metadata": {
        "id": "w3A55YcxgXEh"
      },
      "source": [
        "**Data Preparation**"
      ]
    },
    {
      "cell_type": "markdown",
      "metadata": {
        "id": "tCd3-GCCgjlK"
      },
      "source": [
        "We'll create two sets one for English(input) and another for Spanish(target). To this we'll add all the unique words from 20000 sentences."
      ]
    },
    {
      "cell_type": "code",
      "metadata": {
        "id": "CRKREAjXmAlv"
      },
      "source": [
        "line_subset = lines[:num_samples+1]"
      ],
      "execution_count": 11,
      "outputs": []
    },
    {
      "cell_type": "code",
      "metadata": {
        "id": "pdtJc3-Lge8_"
      },
      "source": [
        "#Get the all unique english words\n",
        "eng_words = set()\n",
        "for word in line_subset['eng']:\n",
        "  for item in word.split():\n",
        "    if item not in eng_words:\n",
        "      eng_words.add(item)\n",
        "\n",
        "#Get the all unique spanish words\n",
        "spa_words = set()\n",
        "for word in line_subset['spa']:\n",
        "  for item in word.split():\n",
        "    if item not in spa_words:\n",
        "      spa_words.add(item)"
      ],
      "execution_count": 12,
      "outputs": []
    },
    {
      "cell_type": "code",
      "metadata": {
        "id": "4vaPKXnSklv1",
        "outputId": "886cd455-296f-4d4f-e190-eaf69c611064",
        "colab": {
          "base_uri": "https://localhost:8080/"
        }
      },
      "source": [
        "#Get length of the sentences which has maxm number of words for both the language\n",
        "max_eng_length = max([len(txt) for txt in line_subset['eng'].apply(lambda x: x.split(' '))])\n",
        "max_spa_length = max([len(txt) for txt in line_subset['spa'].apply(lambda x: x.split(' '))])\n",
        "print(max_eng_length)\n",
        "print(max_spa_length)"
      ],
      "execution_count": 13,
      "outputs": [
        {
          "output_type": "stream",
          "text": [
            "6\n",
            "14\n"
          ],
          "name": "stdout"
        }
      ]
    },
    {
      "cell_type": "code",
      "metadata": {
        "id": "BuqqoN5Gp2TK",
        "outputId": "34aa5671-5dc2-48f9-8980-491cfaf14a94",
        "colab": {
          "base_uri": "https://localhost:8080/"
        }
      },
      "source": [
        "#Sort the input and target words and convert it to a list\n",
        "input_words = sorted(list(eng_words))\n",
        "target_words = sorted(list(spa_words))\n",
        "num_encoder_tokens = len(eng_words)\n",
        "num_decoder_tokens = len(spa_words)\n",
        "print(\"Number of unique words in input(English):- \",num_encoder_tokens)\n",
        "print(\"Number of unique words in target(Spanish):- \",num_decoder_tokens)"
      ],
      "execution_count": 14,
      "outputs": [
        {
          "output_type": "stream",
          "text": [
            "Number of unique words in input(English):-  3731\n",
            "Number of unique words in target(Spanish):-  7806\n"
          ],
          "name": "stdout"
        }
      ]
    },
    {
      "cell_type": "code",
      "metadata": {
        "id": "q8J1Bfsz5bfA",
        "outputId": "b2186635-dd00-486c-871a-11188090a462",
        "colab": {
          "base_uri": "https://localhost:8080/"
        }
      },
      "source": [
        "#For zero padding increase the count of decoder-token by 1\n",
        "num_decoder_tokens += 1\n",
        "num_decoder_tokens"
      ],
      "execution_count": 15,
      "outputs": [
        {
          "output_type": "execute_result",
          "data": {
            "text/plain": [
              "7807"
            ]
          },
          "metadata": {
            "tags": []
          },
          "execution_count": 15
        }
      ]
    },
    {
      "cell_type": "markdown",
      "metadata": {
        "id": "BIU6s95w6E8H"
      },
      "source": [
        "**Vectorize the input and target words**"
      ]
    },
    {
      "cell_type": "code",
      "metadata": {
        "id": "ajx_HTOo6Nac"
      },
      "source": [
        "#Create a dictionary for input and target words and assign an index position to each words for one hot encoding\n",
        "input_token_index = dict([(word,i) for i,word in enumerate(input_words)])\n",
        "target_token_index = dict([(word,i) for i,word in enumerate(target_words)])"
      ],
      "execution_count": 16,
      "outputs": []
    },
    {
      "cell_type": "code",
      "metadata": {
        "id": "Z6dJIfyO7UIH"
      },
      "source": [
        "#Create 3 Numpy arrays:- encoder_input_data, decoder_input_data, decoder_target_data:\n",
        "encoder_input_data = np.zeros((len(line_subset['eng']),max_eng_length),dtype='float32')\n",
        "decoder_input_data = np.zeros((len(line_subset['spa']),max_spa_length),dtype='float32')\n",
        "decoder_target_data = np.zeros((len(line_subset['spa']),max_spa_length,num_decoder_tokens),dtype='float32')"
      ],
      "execution_count": 17,
      "outputs": []
    },
    {
      "cell_type": "code",
      "metadata": {
        "id": "2EgUMyrDuQib"
      },
      "source": [
        "for i, (input_text,target_text) in enumerate(zip(line_subset['eng'],line_subset['spa'])):\n",
        "  \n",
        "  for t, word in enumerate(input_text.split()):\n",
        "    encoder_input_data[i,t] = input_token_index[word]\n",
        "  \n",
        "  for t, word in enumerate(target_text.split()):\n",
        "    decoder_input_data[i,t] = target_token_index[word]\n",
        "\n",
        "    if t > 0:\n",
        "      decoder_target_data[i, t-1, target_token_index[word]] = 1.\n"
      ],
      "execution_count": 18,
      "outputs": []
    },
    {
      "cell_type": "markdown",
      "metadata": {
        "id": "AXP989Gb6Z-Q"
      },
      "source": [
        "**Build the model**"
      ]
    },
    {
      "cell_type": "code",
      "metadata": {
        "id": "pswA237kuR3X"
      },
      "source": [
        "from keras.layers import Input,LSTM,Embedding,Dense\n",
        "from keras.models import Model"
      ],
      "execution_count": 19,
      "outputs": []
    },
    {
      "cell_type": "code",
      "metadata": {
        "id": "ZDi14Kp_2UzF"
      },
      "source": [
        "embedding_size = 80"
      ],
      "execution_count": 20,
      "outputs": []
    },
    {
      "cell_type": "markdown",
      "metadata": {
        "id": "rzs_YyoK61nH"
      },
      "source": [
        "**Encoder Model**"
      ]
    },
    {
      "cell_type": "code",
      "metadata": {
        "id": "i24VyiqW6yvh"
      },
      "source": [
        "encoder_inputs = Input(shape=(None,))\n",
        "encoder_embed = Embedding(num_encoder_tokens,embedding_size)(encoder_inputs)\n",
        "encoder_lstm = LSTM(embedding_size,return_state=True)\n",
        "encoder_outputs, state_h, state_c = encoder_lstm(encoder_embed)\n",
        "encoder_states = [state_h,state_c]"
      ],
      "execution_count": 21,
      "outputs": []
    },
    {
      "cell_type": "markdown",
      "metadata": {
        "id": "vEOXUtpK8QM3"
      },
      "source": [
        "**Decoder Model**"
      ]
    },
    {
      "cell_type": "code",
      "metadata": {
        "id": "LE9-26Sx8OlP"
      },
      "source": [
        "decoder_inputs = Input(shape=(None,))\n",
        "decoder_embed_layer = Embedding(num_decoder_tokens,embedding_size)\n",
        "decoder_embed = decoder_embed_layer(decoder_inputs)\n",
        "\n",
        "# We set up our decoder to return full output sequences,\n",
        "# and to return internal states as well. We don't use the\n",
        "# return states in the training model, but we will use them in inference.\n",
        "decoder_lstm = LSTM(units=embedding_size,return_sequences=True,return_state=True)\n",
        "decoder_outputs,_,_ = decoder_lstm(decoder_embed,initial_state = encoder_states)\n",
        "decoder_dense = Dense(num_decoder_tokens,activation='softmax')\n",
        "decoder_outputs = decoder_dense(decoder_outputs)\n"
      ],
      "execution_count": 22,
      "outputs": []
    },
    {
      "cell_type": "code",
      "metadata": {
        "id": "WVQAf4tm-pav",
        "outputId": "3613e16a-0053-4d5b-daf0-cedd557472e4",
        "colab": {
          "base_uri": "https://localhost:8080/"
        }
      },
      "source": [
        "#Define the model and compile\n",
        "model = Model([encoder_inputs,decoder_inputs],decoder_outputs)\n",
        "model.compile(optimizer='adam',loss='categorical_crossentropy',metrics=['accuracy'])\n",
        "model.summary()"
      ],
      "execution_count": 23,
      "outputs": [
        {
          "output_type": "stream",
          "text": [
            "Model: \"functional_1\"\n",
            "__________________________________________________________________________________________________\n",
            "Layer (type)                    Output Shape         Param #     Connected to                     \n",
            "==================================================================================================\n",
            "input_1 (InputLayer)            [(None, None)]       0                                            \n",
            "__________________________________________________________________________________________________\n",
            "input_2 (InputLayer)            [(None, None)]       0                                            \n",
            "__________________________________________________________________________________________________\n",
            "embedding (Embedding)           (None, None, 80)     298480      input_1[0][0]                    \n",
            "__________________________________________________________________________________________________\n",
            "embedding_1 (Embedding)         (None, None, 80)     624560      input_2[0][0]                    \n",
            "__________________________________________________________________________________________________\n",
            "lstm (LSTM)                     [(None, 80), (None,  51520       embedding[0][0]                  \n",
            "__________________________________________________________________________________________________\n",
            "lstm_1 (LSTM)                   [(None, None, 80), ( 51520       embedding_1[0][0]                \n",
            "                                                                 lstm[0][1]                       \n",
            "                                                                 lstm[0][2]                       \n",
            "__________________________________________________________________________________________________\n",
            "dense (Dense)                   (None, None, 7807)   632367      lstm_1[0][0]                     \n",
            "==================================================================================================\n",
            "Total params: 1,658,447\n",
            "Trainable params: 1,658,447\n",
            "Non-trainable params: 0\n",
            "__________________________________________________________________________________________________\n"
          ],
          "name": "stdout"
        }
      ]
    },
    {
      "cell_type": "code",
      "metadata": {
        "id": "h7lcRGhx_HLU",
        "outputId": "e137fd56-bd9f-4ba1-c20a-951c97693909",
        "colab": {
          "base_uri": "https://localhost:8080/",
          "height": 533
        }
      },
      "source": [
        "#Plot the model\n",
        "from keras.utils.vis_utils import plot_model\n",
        "plot_model(model, show_shapes = True)"
      ],
      "execution_count": 24,
      "outputs": [
        {
          "output_type": "execute_result",
          "data": {
            "image/png": "[encoded data removed]",
            "text/plain": [
              "<IPython.core.display.Image object>"
            ]
          },
          "metadata": {
            "tags": []
          },
          "execution_count": 24
        }
      ]
    },
    {
      "cell_type": "markdown",
      "metadata": {
        "id": "I0LVp3FmAOHo"
      },
      "source": [
        "**Train the model**"
      ]
    },
    {
      "cell_type": "code",
      "metadata": {
        "id": "rAiJ4UXJ_TvQ"
      },
      "source": [
        "batch_size = 128\n",
        "epochs = 100"
      ],
      "execution_count": 25,
      "outputs": []
    },
    {
      "cell_type": "code",
      "metadata": {
        "id": "Co7qilxBATpq"
      },
      "source": [
        "model.fit([encoder_input_data,decoder_input_data],decoder_target_data,batch_size=batch_size,epochs=epochs,validation_split=0.1)"
      ],
      "execution_count": 26,
      "outputs": []
    },
    {
      "cell_type": "markdown",
      "metadata": {
        "id": "Detfe0asKZl-"
      },
      "source": [
        "**Save the weights**"
      ]
    },
    {
      "cell_type": "code",
      "metadata": {
        "id": "4YgKXtNpC9Xr"
      },
      "source": [
        "model.save_weights('eng_spa_weights.h5')\n"
      ],
      "execution_count": 27,
      "outputs": []
    },
    {
      "cell_type": "markdown",
      "metadata": {
        "id": "LMAvWroYKxKb"
      },
      "source": [
        "**Inference Model**"
      ]
    },
    {
      "cell_type": "code",
      "metadata": {
        "id": "l__oAx_GKusd"
      },
      "source": [
        "encoder_model = Model([encoder_inputs,encoder_states])\n",
        "\n",
        "decoder_state_input_h = Input(shape=(embedding_size,))\n",
        "decoder_state_input_c = Input(shape=(embedding_size,))\n",
        "decoder_state_inputs = [decoder_state_input_h,decoder_state_input_c]\n",
        "\n",
        "# Get the embeddings of the decoder sequence\n",
        "decoder_embed2 = decoder_embed_layer(decoder_inputs)\n",
        "\n",
        "# To predict the next word in the sequence, set the initial states to the states from the previous time step\n",
        "decoder_outputs2, state_h2, state_c2 = decoder_lstm(decoder_embed2,initial_state=decoder_state_inputs)\n",
        "decoder_states2 = [state_h2,state_c2]\n",
        "decoder_outputs2 = decoder_dense(decoder_outputs2)\n",
        "\n",
        "decoder_model = Model([decoder_inputs]+decoder_state_inputs, [decoder_outputs2]+decoder_states2)"
      ],
      "execution_count": 28,
      "outputs": []
    },
    {
      "cell_type": "code",
      "metadata": {
        "id": "sg2_lediOiev"
      },
      "source": [
        "#Reverse-lookup token index to turn sequences back to words\n",
        "reverse_input_token_index = dict((i,char) for char, i in input_token_index.items())\n",
        "reverse_target_token_index = dict((i,char) for char, i in target_token_index.items())"
      ],
      "execution_count": 29,
      "outputs": []
    },
    {
      "cell_type": "markdown",
      "metadata": {
        "id": "uW1qXXdVO-JN"
      },
      "source": [
        "**Define a function that decodes some sequence in English to output Spanish text**"
      ]
    },
    {
      "cell_type": "code",
      "metadata": {
        "id": "4WrpFHBVOwjM"
      },
      "source": [
        "def decode_sequence(input_seq):\n",
        "\n",
        "  encoder_model = Model(encoder_inputs,encoder_states)\n",
        "\n",
        "  #Encode the input as state vectors\n",
        "  states_value = encoder_model.predict(input_seq)\n",
        "\n",
        "  #Generate empty target sequence of length 1 with only the start character\n",
        "  target_seq = np.zeros((1,1))\n",
        "  target_seq[0,0] = target_token_index['START_']\n",
        "\n",
        "  #Create a output sequence loop untill we recieve a stop sign\n",
        "  stop_condition = False\n",
        "  decoded_sentence = \"\"\n",
        "\n",
        "  while not stop_condition:\n",
        "    output_tokens, h, c = decoder_model.predict([target_seq] + states_value)\n",
        "\n",
        "    # Sample a token and add the corresponding character to the decoded sequence\n",
        "    # argmax: Returns the indices of the maximum values along an axis\n",
        "    # just like find the most possible char\n",
        "\n",
        "    # Get the predicted token (the token with the highest score)\n",
        "    sampled_token_index = np.argmax(output_tokens[0, -1, :])\n",
        "\n",
        "    # Get the character belonging to the token\n",
        "    sampled_char = reverse_target_token_index[sampled_token_index]\n",
        "\n",
        "    # Append char to decoded sequence\n",
        "    decoded_sentence += ' '+sampled_char\n",
        "\n",
        "    # check for the exit condition: either hitting max length\n",
        "    # or predicting the 'stop' character\n",
        "    if (sampled_char == '_END') or len(decoded_sentence) > max_spa_length:\n",
        "      stop_condition = True\n",
        "\n",
        "    #Update the target sequence\n",
        "    target_seq = np.zeros((1,1))\n",
        "    target_seq[0,0] = sampled_token_index\n",
        "\n",
        "    #Update the state vectors\n",
        "    states_value = [h, c]\n",
        "  \n",
        "  return decoded_sentence"
      ],
      "execution_count": 30,
      "outputs": []
    },
    {
      "cell_type": "code",
      "metadata": {
        "id": "4TrpOOUPQ-f6",
        "outputId": "7e929b76-f255-4c2d-c1d3-d1c694f0f5b4",
        "colab": {
          "base_uri": "https://localhost:8080/"
        }
      },
      "source": [
        " #Let's sample a few test cases!\n",
        "\n",
        " for seq_index in [1,9987,5423,19876,7655,8453,17865,9066,4533,14098,12212,10098,2234,7543,12345,1234,123]:\n",
        "    input_seq = encoder_input_data[seq_index: seq_index + 1]\n",
        "    decoded_sentence = decode_sequence(input_seq)\n",
        "    print('-')\n",
        "    print('Input sentence:', line_subset['eng'][seq_index: seq_index + 1])\n",
        "    print('Actual target sentence:', lines['spa'][seq_index: seq_index + 1])\n",
        "    print('Decoded sentence:', decoded_sentence)"
      ],
      "execution_count": null,
      "outputs": [
        {
          "output_type": "stream",
          "text": [
            "WARNING:tensorflow:5 out of the last 10 calls to <function Model.make_predict_function.<locals>.predict_function at 0x7fd38451aae8> triggered tf.function retracing. Tracing is expensive and the excessive number of tracings could be due to (1) creating @tf.function repeatedly in a loop, (2) passing tensors with different shapes, (3) passing Python objects instead of tensors. For (1), please define your @tf.function outside of the loop. For (2), @tf.function has experimental_relax_shapes=True option that relaxes argument shapes that can avoid unnecessary retracing. For (3), please refer to https://www.tensorflow.org/tutorials/customization/performance#python_or_tensor_args and https://www.tensorflow.org/api_docs/python/tf/function for  more details.\n",
            "-\n",
            "Input sentence: 1    go\n",
            "Name: eng, dtype: object\n",
            "Actual target sentence: 1    START_ vete _END\n",
            "Name: spa, dtype: object\n",
            "Decoded sentence:  ve _END\n",
            "WARNING:tensorflow:5 out of the last 12 calls to <function Model.make_predict_function.<locals>.predict_function at 0x7fd38c1431e0> triggered tf.function retracing. Tracing is expensive and the excessive number of tracings could be due to (1) creating @tf.function repeatedly in a loop, (2) passing tensors with different shapes, (3) passing Python objects instead of tensors. For (1), please define your @tf.function outside of the loop. For (2), @tf.function has experimental_relax_shapes=True option that relaxes argument shapes that can avoid unnecessary retracing. For (3), please refer to https://www.tensorflow.org/tutorials/customization/performance#python_or_tensor_args and https://www.tensorflow.org/api_docs/python/tf/function for  more details.\n",
            "-\n",
            "Input sentence: 9987    were going out\n",
            "Name: eng, dtype: object\n",
            "Actual target sentence: 9987    START_ vamos a salir _END\n",
            "Name: spa, dtype: object\n",
            "Decoded sentence:  nosotros salimos\n",
            "WARNING:tensorflow:5 out of the last 13 calls to <function Model.make_predict_function.<locals>.predict_function at 0x7fd38451ab70> triggered tf.function retracing. Tracing is expensive and the excessive number of tracings could be due to (1) creating @tf.function repeatedly in a loop, (2) passing tensors with different shapes, (3) passing Python objects instead of tensors. For (1), please define your @tf.function outside of the loop. For (2), @tf.function has experimental_relax_shapes=True option that relaxes argument shapes that can avoid unnecessary retracing. For (3), please refer to https://www.tensorflow.org/tutorials/customization/performance#python_or_tensor_args and https://www.tensorflow.org/api_docs/python/tf/function for  more details.\n",
            "-\n",
            "Input sentence: 5423    this is wrong\n",
            "Name: eng, dtype: object\n",
            "Actual target sentence: 5423    START_ es incorrecto _END\n",
            "Name: spa, dtype: object\n",
            "Decoded sentence:  está demasiado\n",
            "WARNING:tensorflow:5 out of the last 13 calls to <function Model.make_predict_function.<locals>.predict_function at 0x7fd3844220d0> triggered tf.function retracing. Tracing is expensive and the excessive number of tracings could be due to (1) creating @tf.function repeatedly in a loop, (2) passing tensors with different shapes, (3) passing Python objects instead of tensors. For (1), please define your @tf.function outside of the loop. For (2), @tf.function has experimental_relax_shapes=True option that relaxes argument shapes that can avoid unnecessary retracing. For (3), please refer to https://www.tensorflow.org/tutorials/customization/performance#python_or_tensor_args and https://www.tensorflow.org/api_docs/python/tf/function for  more details.\n",
            "-\n",
            "Input sentence: 19876    you cant use that\n",
            "Name: eng, dtype: object\n",
            "Actual target sentence: 19876    START_ no puedes usarlo _END\n",
            "Name: spa, dtype: object\n",
            "Decoded sentence:  no puedes decir\n",
            "-\n",
            "Input sentence: 7655    where are they\n",
            "Name: eng, dtype: object\n",
            "Actual target sentence: 7655    START_ ¿dónde están _END\n",
            "Name: spa, dtype: object\n",
            "Decoded sentence:  ¿dónde están _END\n",
            "-\n",
            "Input sentence: 8453    i have no money\n",
            "Name: eng, dtype: object\n",
            "Actual target sentence: 8453    START_ no tengo un centimo _END\n",
            "Name: spa, dtype: object\n",
            "Decoded sentence:  no tengo un mango\n",
            "-\n",
            "Input sentence: 17865    im too busy to go\n",
            "Name: eng, dtype: object\n",
            "Actual target sentence: 17865    START_ estoy demasiado ocupado para ir _END\n",
            "Name: spa, dtype: object\n",
            "Decoded sentence:  estoy demasiado\n",
            "-\n",
            "Input sentence: 9066    just stay close\n",
            "Name: eng, dtype: object\n",
            "Actual target sentence: 9066    START_ solamente quédate cerca _END\n",
            "Name: spa, dtype: object\n",
            "Decoded sentence:  solamente quédate\n",
            "-\n",
            "Input sentence: 4533    i have to try\n",
            "Name: eng, dtype: object\n",
            "Actual target sentence: 4533    START_ tengo que hacer un intento _END\n",
            "Name: spa, dtype: object\n",
            "Decoded sentence:  tengo que hacer\n",
            "-\n",
            "Input sentence: 14098    i have it at home\n",
            "Name: eng, dtype: object\n",
            "Actual target sentence: 14098    START_ lo tengo en casa _END\n",
            "Name: spa, dtype: object\n",
            "Decoded sentence:  lo debo casa _END\n",
            "-\n",
            "Input sentence: 12212    thats important\n",
            "Name: eng, dtype: object\n",
            "Actual target sentence: 12212    START_ eso es importante _END\n",
            "Name: spa, dtype: object\n",
            "Decoded sentence:  eso es importante\n",
            "-\n",
            "Input sentence: 10098    who contributed\n",
            "Name: eng, dtype: object\n",
            "Actual target sentence: 10098    START_ ¿quién ayudó _END\n",
            "Name: spa, dtype: object\n",
            "Decoded sentence:  ¿quién contribuyó\n",
            "-\n",
            "Input sentence: 2234    money talks\n",
            "Name: eng, dtype: object\n",
            "Actual target sentence: 2234    START_ el dinero mueve el mundo _END\n",
            "Name: spa, dtype: object\n",
            "Decoded sentence:  el dinero mueve\n",
            "-\n",
            "Input sentence: 7543    we are doctors\n",
            "Name: eng, dtype: object\n",
            "Actual target sentence: 7543    START_ somos médicos _END\n",
            "Name: spa, dtype: object\n",
            "Decoded sentence:  nosotros somos\n",
            "-\n",
            "Input sentence: 12345    they go shopping\n",
            "Name: eng, dtype: object\n",
            "Actual target sentence: 12345    START_ ellos van de compras _END\n",
            "Name: spa, dtype: object\n",
            "Decoded sentence:  ellas van a las\n",
            "-\n",
            "Input sentence: 1234    i ran home\n",
            "Name: eng, dtype: object\n",
            "Actual target sentence: 1234    START_ me fui corriendo a casa _END\n",
            "Name: spa, dtype: object\n",
            "Decoded sentence:  me apresuré a casa\n",
            "-\n",
            "Input sentence: 123    beat it\n",
            "Name: eng, dtype: object\n",
            "Actual target sentence: 123    START_ pírate _END\n",
            "Name: spa, dtype: object\n",
            "Decoded sentence:  pírate _END\n"
          ],
          "name": "stdout"
        }
      ]
    },
    {
      "cell_type": "code",
      "metadata": {
        "id": "sL-jokXUi0tH"
      },
      "source": [
        ""
      ],
      "execution_count": null,
      "outputs": []
    }
  ]
}